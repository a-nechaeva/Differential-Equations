{
  "nbformat": 4,
  "nbformat_minor": 0,
  "metadata": {
    "colab": {
      "provenance": [],
      "collapsed_sections": [
        "fAGi39ux-eL4",
        "WZDoQ4jWuKbY",
        "HfCqVa1f_lK6",
        "KB4q7e2DFGXi",
        "QTmnFY5JHQCM",
        "1ES5KnIbP6N5",
        "6IeGhHGHm_82",
        "p-PiOF7_p7Uk",
        "jTepnBMsp7Ul",
        "FGLv-h5Up7Um",
        "599dsAIkp7Uo",
        "0Uu9gPFVasqq",
        "dpApMCw0-VfT",
        "wIvfroq9dq8L",
        "r70MUF1CtwB8",
        "xc0Bo-spt108",
        "VRrLKFEm-lwB",
        "AivDwheVMkWy",
        "9BvMXMbOrPDF",
        "1I73LfjhrTSB",
        "iFmjllLzr48s",
        "uhl3IzXpigyv",
        "apHMgTApylpY",
        "Ay5B8BjYzCAo",
        "RGrCnnFd1jUD",
        "JaJU7qHP1ZMA",
        "pvhxxRMa1ub9",
        "wVt2mE0O3crq",
        "4R4vEN8l3qi0",
        "Tz0rF2Gpikrf",
        "w3tllEk_iFgM"
      ],
      "include_colab_link": true
    },
    "kernelspec": {
      "name": "python3",
      "display_name": "Python 3"
    },
    "language_info": {
      "name": "python"
    }
  },
  "cells": [
    {
      "cell_type": "markdown",
      "metadata": {
        "id": "view-in-github",
        "colab_type": "text"
      },
      "source": [
        "<a href=\"https://colab.research.google.com/github/a-nechaeva/Differential-Equations/blob/main/Diffeqs_lab_1.ipynb\" target=\"_parent\"><img src=\"https://colab.research.google.com/assets/colab-badge.svg\" alt=\"Open In Colab\"/></a>"
      ]
    },
    {
      "cell_type": "markdown",
      "source": [
        "# Лабораторная работа №1 «Численное решение дифференциальных уравнений»\n",
        "\n"
      ],
      "metadata": {
        "id": "OsZ3HJLLSt0O"
      }
    },
    {
      "cell_type": "markdown",
      "source": [
        "## Вступление"
      ],
      "metadata": {
        "id": "fAGi39ux-eL4"
      }
    },
    {
      "cell_type": "markdown",
      "source": [
        "В первой лабораторной Вашей задачей будет изучить и реализоваь различные методы для численного решения дифференциальных уравнений.\n",
        "\n",
        "Наверное, из курса физики Вы успели заметить, что дифференциальные уравнения появляются при описании явлений современного мира практически повсеместно, и практически никогда эти уравнения невозможно разрешить даже в квадратурах (выразив $y(x)$ через элементарные функции и интегралы от них).\n",
        "\n",
        "Однако, физическими задачами уже никого не удивить, а уравнение движения маятника Вам уже, наверное, набило оскомину. Да и складывающееся ощущение, что дифферецниальные уранвения возникают только лишь в задачах естествознания, ошибочно. Чтобы показать это, в качестве задачи в данной лабораторной работе рассматривается интересный пример использования дифференциальных уравнений в задачах искусственного интеллекта. *Неожиданно?!* Давайте разбираться."
      ],
      "metadata": {
        "id": "hO8vUNz2TpIT"
      }
    },
    {
      "cell_type": "markdown",
      "source": [
        "## Задание 1. Численное решение дифференциального уравнения первого порядка."
      ],
      "metadata": {
        "id": "WZDoQ4jWuKbY"
      }
    },
    {
      "cell_type": "markdown",
      "source": [
        "Прежде чем приступить к интеллекту искусственному, применим интеллект естественный для реализации функций численного решения дифференциальных уравнений.\n"
      ],
      "metadata": {
        "id": "CpGs3DQvuTHK"
      }
    },
    {
      "cell_type": "markdown",
      "source": [
        "### Описание задачи"
      ],
      "metadata": {
        "id": "HfCqVa1f_lK6"
      }
    },
    {
      "cell_type": "markdown",
      "source": [
        "Так как дальше нам понадобится решать систему уравнений, то сразу будем решать задачу Коши\n",
        "$$\n",
        "\\begin{cases} x(t)' = f(t, x(t)),\\\\ x(t_0) = x_0 \\end{cases} \\quad \\text{где } x,x_0 \\in \\mathbb{R}^n, \\ t \\in [t_0,T].\n",
        "$$\n",
        "\n",
        "Рассмотрим два, наверное, самых распространенных метода:\n",
        "- Метод ломаных Эйлера,\n",
        "- Метод Рунге—Кутты."
      ],
      "metadata": {
        "id": "ej_oy4uC_lgo"
      }
    },
    {
      "cell_type": "markdown",
      "source": [
        "Импортируем необходимые нам далее библиотеки."
      ],
      "metadata": {
        "id": "AnDUr3_wUwpb"
      }
    },
    {
      "cell_type": "code",
      "source": [
        "import numpy as np\n",
        "import matplotlib.pyplot as plt"
      ],
      "metadata": {
        "id": "We4dnT90Uv7G"
      },
      "execution_count": null,
      "outputs": []
    },
    {
      "cell_type": "markdown",
      "source": [
        "#### Метод ломаных Эйлера"
      ],
      "metadata": {
        "id": "KB4q7e2DFGXi"
      }
    },
    {
      "cell_type": "markdown",
      "source": [
        "Метод Эйлера — это канонический и, честно говоря, простейший численный метод для решения дифференциальных уравнений. Мы будем искать приближение решения в виде ломаной. Для того, чтобы построить ломаную, нужно найти координаты ее вершин, этим и займемся.\n",
        "\n"
      ],
      "metadata": {
        "id": "FjAwqkZxFNhJ"
      }
    },
    {
      "cell_type": "markdown",
      "source": [
        "##### Теоретические выкладки"
      ],
      "metadata": {
        "id": "QTmnFY5JHQCM"
      }
    },
    {
      "cell_type": "markdown",
      "source": [
        "Зададим на отрезке $[t_0, T]$ некоторое разбиение $\\big\\{t_m\\big\\}_{m=0}^M$.\n",
        "\n",
        "Пусть $\\varphi(t)$ — истинное решение. Разложим функцию$^*$ $\\varphi(t)$ по Тейлору в точке $t_k ,\\;  k \\in \\{0,1,\\dots,M-1\\}$:\n",
        "$$\n",
        "\\varphi(t) = \\varphi(t_k) + (t-t_k)\\cdot \\varphi'(t_k) + \\mathrm{\\overline o}\\left(t-t_k\\right).\n",
        "$$\n",
        "Подставим $t=t_{k+1}$:\n",
        "$$\n",
        "\\varphi(t_{k+1}) = \\varphi(t_k) + (t_{k+1}-t_k)\\cdot \\varphi'(t_k)  + \\mathrm{\\overline o}\\left(t_{k+1}-t_k \\right).\n",
        "$$\n",
        "Обозначим $h_k = t_{k+1} - t_k$ и обрубим наше разложение, отбросив о-малое. Тогда\n",
        "$$\n",
        "\\psi(t_{k+1}) = \\varphi(t_k) + h_k \\cdot \\varphi'(t_k)\n",
        "$$\n",
        "— приближенное значение $\\varphi(t_{k+1})$, $\\psi(t_0) = x_0$.\n",
        "\n",
        "Так как $\\varphi(t)$ — решение уравнения $x'=f(t,x)$, то $\\varphi'(t) = f(t, \\varphi(t))$, а значит\n",
        "$$\n",
        "\\psi(t_{k+1}) = \\varphi(t_k) + h_k \\cdot f(t_k, \\varphi(t_k)).\n",
        "$$\n",
        "Так как $\\psi(t_k)$ — приближенное значение $\\varphi (t_k)$, то, с некоторой потерей точности, в правой части можем заменить все $\\varphi(t_k)$ на $\\psi(t_k)$.\n",
        "\n",
        "Тогда получаем множество упорядоченных вершин ломаной Эйлера:\n",
        "$$\\boxed{\\psi(t_{k+1}) = \\psi(t_k) + h_k \\cdot f(t_k, \\psi(t_k)), \\quad \\psi(t_0) = x_0}$$\n",
        "\n",
        "Тогда для построения приближенного решения задачи Коши достаточно запустить вычисление вплоть до $\\psi(t_M)$.\n",
        "\n",
        "Более подробно, а именно: то, почему метод сходится, какая погрешность получается и т.д., обсуждалось на практических занятиях.\n",
        "\n",
        "<sub>* В случае, когда у нас система уравнений, то есть $x$ является вектором, просто проделываем данные рассуждения  покомпонентно.</sub>"
      ],
      "metadata": {
        "id": "iB2WDBgWHYd7"
      }
    },
    {
      "cell_type": "markdown",
      "source": [
        "##### Реализация метода"
      ],
      "metadata": {
        "id": "1ES5KnIbP6N5"
      }
    },
    {
      "cell_type": "markdown",
      "source": [
        "Реализуйте метод ломаных Эйлера для задачи Коши\n",
        "$$\n",
        "\\begin{cases}\n",
        "x'(t) = f(t, x(t)),\\\\\n",
        "x(t_0) = x_0,\\\\\n",
        "t\\in [t_0, T].\n",
        "\\end{cases}\n",
        "$$\n",
        "в функции `Euler_method`, принимающей в качестве аргументов:\n",
        "- `fun` — функция, задающая правую часть уравнения,\n",
        "- `t` — список с границами отрезка — список $[t_0, T]$,\n",
        "- `x_0` — вектор$_{(n\\times 1)}$ начального значения при $t=t_0$,\n",
        "- `dt` — величина $h_k$ (для простоты примем разбиение равномерным),\n",
        "- `args` — словарь с аргументами для функции `fun` (в Python можно передавать в аргументы функции словарь [с помощью оператора `**` перед словарем](https://stackoverflow.com/questions/334655/passing-a-dictionary-to-a-function-as-keyword-parameters)),\n",
        "\n",
        "и возвращающей список с первой координатой — массивом с точками разбиения $t_k$, а второй — массивом со значениями приближенного решения в этих точках."
      ],
      "metadata": {
        "id": "HS1IzJfYQAYT"
      }
    },
    {
      "cell_type": "code",
      "source": [
        "'''\n",
        "Реализация метода ломаных Эйлера в функции Euler_method\n",
        "'''\n",
        "\n",
        "def Euler_method(fun, t, x_0, dt, args={}):\n",
        "    ### Место для Вашего решения ###\n"
      ],
      "metadata": {
        "id": "wIcUwWtMKDwj"
      },
      "execution_count": null,
      "outputs": []
    },
    {
      "cell_type": "markdown",
      "source": [
        "##### Пример"
      ],
      "metadata": {
        "id": "6IeGhHGHm_82"
      }
    },
    {
      "cell_type": "markdown",
      "source": [
        "Давайте проверим Вашу реализацию на примере.\n",
        "\n",
        "Рассмотрим уравнение Бернулли\n",
        "$$\n",
        "x' = -\\frac{2x}{t} - t^4x^3e^t\n",
        "$$\n",
        "с начальным условием $x(1) = \\frac{1}{2e}$ на отрезке $[1,1.5]$ и сравним его численное решение с аналитическим (которое, правда, Вам придется найти самим)"
      ],
      "metadata": {
        "id": "90GREbb_ZY1Q"
      }
    },
    {
      "cell_type": "markdown",
      "source": [
        "---\n",
        "> ❗ **Место для Вашего решения дифференциального уравнения**❗\n",
        ">\n",
        "> *Вы можете приложить фотографию с решением, используя гугл-диск (как это сделать можно глянуть [здесь](https://stackoverflow.com/questions/50670920/how-to-insert-an-inline-image-in-google-colaboratory-from-google-drive)).*\n",
        ">\n",
        "> Вы можете оставить ссылку на файл, лежащий на гугл диске (не забудьте дать доступ на чтение по ссылке)\n",
        ">\n",
        "> Вы также можете записать решение, используя Latex, который colab поддерживает.\n",
        ">\n",
        "---"
      ],
      "metadata": {
        "id": "VFiIxoWyXPZ2"
      }
    },
    {
      "cell_type": "code",
      "source": [
        "'''\n",
        "Задайте функцию f(t,x) — правую часть предложенного уравнения\n",
        "'''\n",
        "\n",
        "def f(t,x):\n",
        "    ### Место для Вашего решения ###\n"
      ],
      "metadata": {
        "id": "Vvu1i6MlOIST"
      },
      "execution_count": null,
      "outputs": []
    },
    {
      "cell_type": "markdown",
      "source": [
        "Запустите метод Эйлера с разными значениями шага и оцените на глаз, насколько мы близки к истинному решению.\n",
        "\n",
        "Сделайте вывод относительно связи между размером шага, точностью и временем работы программы."
      ],
      "metadata": {
        "id": "AAsmIrVQm9J_"
      }
    },
    {
      "cell_type": "code",
      "source": [
        "'''\n",
        "Запустите метод Эйлера с необходимыми начальными условиями и шагом 0.1\n",
        "Постройте на одном графике точное решение и полученное методом Эйлера\n",
        "'''\n",
        "\n",
        "### Место для Вашего решения ###\n"
      ],
      "metadata": {
        "id": "MZnFCDASOWxP"
      },
      "execution_count": null,
      "outputs": []
    },
    {
      "cell_type": "code",
      "source": [
        "'''\n",
        "Запустите метод Эйлера с необходимыми начальными условиями и шагом 0.05\n",
        "Постройте на одном графике точное решение и полученное методом Эйлера\n",
        "'''\n",
        "\n",
        "### Место для Вашего решения ###\n"
      ],
      "metadata": {
        "id": "hQ9xeW14m25u"
      },
      "execution_count": null,
      "outputs": []
    },
    {
      "cell_type": "code",
      "source": [
        "'''\n",
        "Запустите метод Эйлера с необходимыми начальными условиями и шагом 0.001\n",
        "Постройте на одном графике точное решение и полученное методом Эйлера\n",
        "'''\n",
        "\n",
        "### Место для Вашего решения ###\n"
      ],
      "metadata": {
        "id": "DMn8BF-Wm70d"
      },
      "execution_count": null,
      "outputs": []
    },
    {
      "cell_type": "code",
      "source": [
        "'''\n",
        "Постройте на одном графике точное решение\n",
        "и полученные выше методом Эйлера с шагами 0.1, 0.05, 0.001 приближенные решения\n",
        "'''\n",
        "\n",
        "### Место для Вашего решения ###\n"
      ],
      "metadata": {
        "id": "NJ5-1INM8c0r"
      },
      "execution_count": null,
      "outputs": []
    },
    {
      "cell_type": "markdown",
      "source": [
        "---\n",
        "> ❗ **Место для Вашего вывода** ❗\n",
        ">\n",
        "> *Мне кажется, что ...*\n",
        "---"
      ],
      "metadata": {
        "id": "MY18snxooFIk"
      }
    },
    {
      "cell_type": "markdown",
      "source": [
        "#### Метод Рунге-Кутты"
      ],
      "metadata": {
        "id": "p-PiOF7_p7Uk"
      }
    },
    {
      "cell_type": "markdown",
      "source": [
        "Теперь рассмотрим не столько геометрически понятный, но достаточно часто применяемый на практике метод Рунге—Кутты, ограничившись лишь вторым порядком последнего."
      ],
      "metadata": {
        "id": "g2P4VJivmsg5"
      }
    },
    {
      "cell_type": "markdown",
      "source": [
        "##### Теоретические выкладки"
      ],
      "metadata": {
        "id": "jTepnBMsp7Ul"
      }
    },
    {
      "cell_type": "markdown",
      "source": [
        "Так как $\\varphi$ — решение исходной задачи Коши, то $\\varphi'(t) = f(t, \\varphi(t))$, а также\n",
        "$$\n",
        "\\varphi''(t) = \\frac{d}{d t} f(t, \\varphi(t)) = \\frac{\\partial f(t, \\varphi)}{\\partial t} + \\frac{\\partial f(t, \\varphi)}{\\partial \\varphi} \\frac{d\\varphi(t)}{dt}= \\frac{\\partial f(t, \\varphi)}{\\partial t} + \\frac{\\partial f(t, \\varphi)}{\\partial \\varphi} f(t,\\varphi(t)).\n",
        "$$\n",
        "\n",
        "Аналогично тому, что делали ранее, воспользуемся разложением Тейлора на отрезке в точке $t_k$ и подставим точку $t_{k+1}$:\n",
        "$$\n",
        "\\varphi(t_{k+1}) = \\varphi(t_k) + (t_{k+1}-t_k)\\cdot \\varphi'(t_k) + \\frac{1}{2}(t_{k+1}-t_k)^2\\cdot \\varphi''(t_k) + \\mathrm{\\overline o}\\left((t_{k+1}-t_k)^2\\right).\n",
        "$$\n",
        "Отбросим слагаемое с о-малым, подставим выражения для $\\varphi'$, $\\varphi''$ и обозначим правую часть за $\\psi(t_{k+1})$, получив\n",
        "$$\n",
        "\\psi(t_{k+1}) = \\varphi(t_k) + (t_{k+1}-t_k)\\cdot f(t_k, \\varphi(t_k)) + \\frac{1}{2}(t_{k+1}-t_k)^2\\cdot \\left.\\left(f'_t(t, \\varphi) + f'_\\varphi(t, \\varphi) f(t,\\varphi(t))\\right)\\right|_{(t_k, \\varphi(t_k))}. \\tag{o}\n",
        "$$\n",
        "\n",
        "Запишем теперь разложение Тейлора функции двух переменных $f(t,\\varphi)$ в точке $(t_k, \\varphi(t_k))$ и подставим точку $\\big(t_{k+1}, \\varphi(t_{k})+ (t_{k+1}-t_k)f(t_k, \\varphi(t_k))\\big)$\n",
        "$$\n",
        "f\\big(t_{k+1},\\varphi(t_{k})+ (t_{k+1}-t_k)f(t_k, \\varphi(t_k))\\big) \\approx f(t_k, \\varphi(t_k)) + (t_{k+1}-t_k)f'_t(t_k, \\varphi(t_k)) + (t_{k+1} - t_k)  f(t_k, \\varphi(t_k)f'_\\varphi.\n",
        "$$\n",
        "\n",
        "Заметим, что это очень похоже на правую часть в выражении (o). Тогда, домножив на $\\frac12 (t_{k+1}-t_k)$, получим\n",
        "$$\n",
        "\\psi(t_{k+1}) = \\varphi(t_k) + \\frac12 (t_{k+1}-t_k)\\cdot f(t_k, \\varphi(t_k)) + \\frac12(t_{k+1} - t_k) f\\big(t_{k+1}, \\varphi(t_{k})+(t_{k+1} - t_k)f(t_k, \\varphi(t_k))\\big).\n",
        "$$\n",
        "\n",
        "Или, вводя обозначение длины шага $h_k = t_{k+1} - t_k$ и подменяя в правой части истинное решение на приближенное, получаем итерационную схему для метода Рунге—Кутты 2-ого порядка\n",
        "$$\n",
        "\\boxed{\n",
        "\\psi(t_{k+1}) = \\psi(t_k) + \\frac12 \\underbrace{h_k \\cdot f(t_k, \\psi(t_k))}_{k_1} + \\frac12 \\underbrace{h_k f\\big(t_{k+1}, \\psi(t_{k})+h_k f(t_k, \\psi(t_k))\\big)}_{k_2}.\n",
        "}\n",
        "$$\n"
      ],
      "metadata": {
        "id": "cxoc4OzCgaA8"
      }
    },
    {
      "cell_type": "markdown",
      "source": [
        "##### Реализация метода"
      ],
      "metadata": {
        "id": "FGLv-h5Up7Um"
      }
    },
    {
      "cell_type": "markdown",
      "source": [
        "Реализуйте метод Рунге-Кутты для задачи Коши\n",
        "$$\n",
        "\\begin{cases}\n",
        "x'(t) = f(t, x(t)),\\\\\n",
        "x(t_0) = x_0,\\\\\n",
        "t\\in [t_0, T].\n",
        "\\end{cases}\n",
        "$$\n",
        "в функции `Runge_Kutta_method`, принимающей в качестве аргументов:\n",
        "- `fun` — функция, задающая правую часть уравнения,\n",
        "- `t` — список с границами отрезка — список $[t_0, T]$,\n",
        "- `x_0` — вектор$_{(n\\times 1)}$ начального значения при $t=t_0$,\n",
        "- `dt` — величина $h_k$ (для простоты примем разбиение равномерным),\n",
        "- `args` — словарь с аргументами для функции `fun` (в Python можно передавать в аргументы функции словарь [с помощью оператора `**` перед словарем](https://stackoverflow.com/questions/334655/passing-a-dictionary-to-a-function-as-keyword-parameters)),\n",
        "\n",
        "и возвращающей список с первой координатой — массивом с точками разбиения $t_k$, а второй — массивом со значениями приближенного решения в этих точках."
      ],
      "metadata": {
        "id": "hYNjKYAjp7Um"
      }
    },
    {
      "cell_type": "code",
      "source": [
        "'''\n",
        "Реализация метода Рунге—Кутты в функции Runge_Kutta_method\n",
        "'''\n",
        "\n",
        "def Runge_Kutta_method(fun, t, x_0, dt, args={}):\n",
        "    ### Место для Вашего решения ###\n"
      ],
      "metadata": {
        "id": "cvWY4vXwp7Un"
      },
      "execution_count": null,
      "outputs": []
    },
    {
      "cell_type": "markdown",
      "source": [
        "##### Пример"
      ],
      "metadata": {
        "id": "599dsAIkp7Uo"
      }
    },
    {
      "cell_type": "markdown",
      "source": [
        "Давайте проверим Вашу реализацию на примере.\n",
        "\n",
        "Рассмотрим уравнение Бернулли\n",
        "$$\n",
        "x' = tx^2-x\n",
        "$$\n",
        "с начальным условием $x(0) = \\frac{1}{2}$ на отрезке $[0, 2]$ и сравним его численное решение с аналитическим (которое, правда, Вам придется найти самим)"
      ],
      "metadata": {
        "id": "cs6Z_QH5p7Uo"
      }
    },
    {
      "cell_type": "markdown",
      "source": [
        "---\n",
        "> ❗ **Место для Вашего решения дифференциального уравнения**❗\n",
        ">\n",
        "> *Вы можете приложить фотографию с решением, используя гугл-диск (как это сделать можно глянуть [здесь](https://stackoverflow.com/questions/50670920/how-to-insert-an-inline-image-in-google-colaboratory-from-google-drive)).*\n",
        ">\n",
        "> Вы можете оставить ссылку на файл, лежащий на гугл диске (не забудьте дать доступ на чтение по ссылке)\n",
        ">\n",
        "> Вы также можете записать решение, используя Latex, который colab поддерживает.\n",
        ">\n",
        "---"
      ],
      "metadata": {
        "id": "VrqZymrMVTtq"
      }
    },
    {
      "cell_type": "code",
      "source": [
        "'''\n",
        "Задайте функцию f(t,x) — правую часть предложенного уравнения\n",
        "'''\n",
        "\n",
        "def f(t,x):\n",
        "    ### Место для Вашего решения ###\n"
      ],
      "metadata": {
        "id": "cxf4PfKlp7Uo"
      },
      "execution_count": null,
      "outputs": []
    },
    {
      "cell_type": "markdown",
      "source": [
        "Запустите метод Рунге—Кутты с разными значениями шага и оцените на глаз, насколько мы близки к истинному решению.\n",
        "\n",
        "Сделайте вывод относительно связи между размером шага, точностью и временем работы программы."
      ],
      "metadata": {
        "id": "4IOuq7uip7Uo"
      }
    },
    {
      "cell_type": "code",
      "source": [
        "'''\n",
        "Запустите метод Рунге—Кутты с необходимымы начальными условиями и шагом 0.1\n",
        "Постройте на одном графике точное решение и полученное методом Рунге-Кутты\n",
        "'''\n",
        "\n",
        "### Место для Вашего решения ###\n"
      ],
      "metadata": {
        "id": "SxePgYEIp7Up"
      },
      "execution_count": null,
      "outputs": []
    },
    {
      "cell_type": "code",
      "source": [
        "'''\n",
        "Запустите метод Рунге-Кутты с необходимымы начальными условиями и шагом 0.05\n",
        "Постройте на одном графике точное решение и полученное методом Рунге-Кутты\n",
        "'''\n",
        "\n",
        "### Место для Вашего решения ###\n"
      ],
      "metadata": {
        "id": "XWhQBU4fp7Up"
      },
      "execution_count": null,
      "outputs": []
    },
    {
      "cell_type": "code",
      "source": [
        "'''\n",
        "Запустите метод Рунге-Кутты с необходимымы начальными условиями и шагом 0.001\n",
        "Постройте на одном графике точное решение и полученное методом Рунге-Кутты\n",
        "'''\n",
        "\n",
        "### Место для Вашего решения ###\n"
      ],
      "metadata": {
        "id": "KnSpnBTfp7Up"
      },
      "execution_count": null,
      "outputs": []
    },
    {
      "cell_type": "code",
      "source": [
        "'''\n",
        "Постройте на одном графике точное решение\n",
        "и полученные выше методом Эйлера с шагами 0.1, 0.05, 0.001 приближенные решения\n",
        "'''\n",
        "\n",
        "### Место для Вашего решения ###\n"
      ],
      "metadata": {
        "id": "vI-Ucho30vS9"
      },
      "execution_count": null,
      "outputs": []
    },
    {
      "cell_type": "markdown",
      "source": [
        "---\n",
        "> ❗ **Место для Вашего вывода** ❗\n",
        ">\n",
        "> *Мне кажется, что ...*\n",
        "---"
      ],
      "metadata": {
        "id": "SiBRx2T7p7Up"
      }
    },
    {
      "cell_type": "markdown",
      "source": [
        "## Задание 2. Восстановление цифр по бракованным картинкам."
      ],
      "metadata": {
        "id": "0Uu9gPFVasqq"
      }
    },
    {
      "cell_type": "markdown",
      "source": [
        "### Описание задачи"
      ],
      "metadata": {
        "id": "dpApMCw0-VfT"
      }
    },
    {
      "cell_type": "markdown",
      "source": [
        "Вам предоставлен кусок тренировочной выборки из базы данных [MNIST](https://www.kaggle.com/datasets/hojjatk/mnist-dataset). А также бракованные изображения из этого же датасета.\n",
        "\n",
        "<p>    \n",
        "    <center>\n",
        "    <img src=\"https://drive.google.com/uc?export=view&id=1jgWvIHwXkhQ1iE6ER0Wy_SLxBvCWW1Dd\" alt=\"Проблемы с отображением изображения. Обратитесь к автору\" width=500>\n",
        "    <img src=\"https://drive.google.com/uc?export=view&id=1AET7slaGnEePLx3qjrxycJSXfHJg55bz\" alt=\"Проблемы с отображением изображения. Обратитесь к автору\" width=500>\n",
        "    <em><br>Пример данных из датасета MNIST<br>Сначала: тренировочные изображения,<br>Потом: бракованные изображения</em>\n",
        "    </center>\n",
        "</p>\n",
        "\n",
        "Необходимо, используя простейшую версию [нейронной сети Хопфилда](https://arxiv.org/abs/2008.02217), восстановить цифры на бракованных изображениях.\n",
        "\n",
        "<p>    \n",
        "    <center>\n",
        "    <img src=\"https://upload.wikimedia.org/wikipedia/commons/b/b4/Hopfield%27s_net.png\" alt>\n",
        "    <em><br>Пример: схема нейронной сети Хопфилда с тремя нейронами</em>\n",
        "    </center>\n",
        "</p>\n",
        "\n",
        "Переписывая заданную в нейронной сети Хопфилда структуру с $m$ нейронами в виде уравнения в матричном виде, можно получить\n",
        "$$\\boxed{x' = A^T \\mathrm{softmax}(\\beta Ax) - x}, \\tag{1}$$\n",
        "где $A$ — $\\text{матрица}_{(m \\times n)}$ весов, $\\beta \\in \\mathbb{R}$, $x$ — $\\text{вектор}_{(n, 1)}$ входных нейронов, $\\mathrm{softmax}(z)_i = \\frac{e^{z_i}}{\\sum_{k} e^{z_k}}$ — функция активации.\n",
        "\n",
        "А значит, задача применения нейронной сети с известной$^*$ матрицей весов сводится к решению дифференциального уравнения (1).\n",
        "\n",
        "<sub>$^*$ Матрица с весами нетрудно получается на\n",
        "основе тренировочных данных, о чем мы поговорим чуть дальше.</sub>"
      ],
      "metadata": {
        "id": "HuIE8xezWalS"
      }
    },
    {
      "cell_type": "markdown",
      "source": [
        "Нам дальше понадобится функция $\\mathrm{softmax}(x)$. Реализуйте более удобную далее в применении $\\mathrm{softmax}(\\beta \\cdot x)$ в функции `softmax(x, beta)`, рассматривая $x$ как массив `numpy.array`, а $\\beta$ — как число."
      ],
      "metadata": {
        "id": "dV1NelH3u3Kl"
      }
    },
    {
      "cell_type": "code",
      "source": [
        "'''\n",
        "Функция softmax(beta*x)\n",
        "x — numpy.array\n",
        "beta — число\n",
        "'''\n",
        "\n",
        "def softmax(x, beta=1):\n",
        "    ### Место для Вашего решения ###\n"
      ],
      "metadata": {
        "id": "cDCM7KFBu2SJ"
      },
      "execution_count": null,
      "outputs": []
    },
    {
      "cell_type": "markdown",
      "source": [
        "Запишите правую часть уравнения (1), с которым мы дальше будем активно работать, в функцию `dynamics(x, A, beta)`. Используйте в качестве $x$ и $A$ массивы `numpy.array`, а в качестве $\\beta$ — число."
      ],
      "metadata": {
        "id": "AkY1XsrfvkML"
      }
    },
    {
      "cell_type": "code",
      "source": [
        "'''\n",
        "Правая часть уравнения (1)\n",
        "x — numpy.array\n",
        "A — numpy.array\n",
        "beta — число\n",
        "'''\n",
        "\n",
        "def dynamics(t, x, A, beta):\n",
        "    ### Место для Вашего решения ###\n"
      ],
      "metadata": {
        "id": "K--hBrWWvjxe"
      },
      "execution_count": null,
      "outputs": []
    },
    {
      "cell_type": "markdown",
      "source": [
        "### Интуитивное понимание принципа работы нейронной сети Хопфилда\n"
      ],
      "metadata": {
        "id": "wIvfroq9dq8L"
      }
    },
    {
      "cell_type": "markdown",
      "source": [
        "#### Простой случай на плоскости"
      ],
      "metadata": {
        "id": "r70MUF1CtwB8"
      }
    },
    {
      "cell_type": "markdown",
      "source": [
        "Для того, чтобы понять, почему предложенный выше метод работает, необходимо углубиться в дифференциальное уравнение (1).\n",
        "\n",
        "Постройте с помощью [`plt.quiver`](https://matplotlib.org/stable/api/_as_gen/matplotlib.pyplot.quiver.html) векторное поле для уравнения $x' = A^T \\mathrm{softmax} (\\beta A x)-x$, положив $A = \\begin{bmatrix}1&0\\\\0&1\\\\-1&-1\\end{bmatrix}$, $\\beta=5$.\n",
        "\n",
        "Добавьте на этот же график точки $(1,0), (0,1), (-1,-1)$. _* Заметьте, что это просто точки из матрицы $A$, координаты которых находятся в строках этой матрицы_."
      ],
      "metadata": {
        "id": "Y8mwhxrEtULZ"
      }
    },
    {
      "cell_type": "code",
      "execution_count": null,
      "metadata": {
        "id": "oqJeMU1OSk9f"
      },
      "outputs": [],
      "source": [
        "'''\n",
        "Векторное поле уравнения x' = A^T softmax(beta * A * x) - x\n",
        "'''\n",
        "\n",
        "### Место для Вашего решения ###\n"
      ]
    },
    {
      "cell_type": "markdown",
      "source": [
        "Замечаете странное поведение стрелочек? Они как будто смотрят на одну из наших выбранных точек.\n",
        "\n",
        "Давайте проверим, сохранится ли такое поведение при другой матрице $A$.\n",
        "\n",
        "Рассмотрите матрицу $A=\\begin{bmatrix}2&2\\\\2&-1\\\\-3&4\\\\-4&-3\\end{bmatrix}$.\n",
        "\n",
        "Постройте векторное поле и найдите, какие точки обладают таким же поведением (к ним тянутся стрелочки).\n"
      ],
      "metadata": {
        "id": "JHQ6CpYjmwLw"
      }
    },
    {
      "cell_type": "code",
      "source": [
        "'''\n",
        "Векторное поле уравнения x' = A^T softmax(beta * A * x) - x\n",
        "A = [[2,2],[2,-1],[-3,4],[-4,-3]]\n",
        "beta = 5\n",
        "'''\n",
        "\n",
        "### Место для Вашего решения ###\n"
      ],
      "metadata": {
        "id": "f0xYretquX_E"
      },
      "execution_count": null,
      "outputs": []
    },
    {
      "cell_type": "markdown",
      "source": [
        "Не кажется ли это очень неплохим свойством? Вспомним, что векторное поле показывает как будто бы «направление скорости» нашей системы. А значит, начиная из какой-нибудь точки на плоскости, мы «скатимся» по стрелочкам в одну из заданных нами в матрице $A$ точек.\n",
        "\n",
        "Подробнее о таком поведении мы поговорим ближе к концу семестра в курсе, а пока стоит понимать это именно на таком интуитивном уровне."
      ],
      "metadata": {
        "id": "Zu_cZiXyquWp"
      }
    },
    {
      "cell_type": "markdown",
      "source": [
        "\n",
        "На самом деле, наша система (1) дает даже больше.\n",
        "\n",
        "Давайте рассмотрим матрицу $A=\\begin{bmatrix}2&3\\\\-3&2\\\\2&5\\\\-2&-3\\\\3&5\\end{bmatrix}$. Видно, что несколько предполагаемых \"точек притяжения\" сгруппированы в первой четверти плоскости.\n",
        "\n",
        "Постройте векторное поле для уравнения (1), используя данную матрицу, и посмотрите, как наше уравнение справляется с такими сгруппированными точками."
      ],
      "metadata": {
        "id": "SeRAp418r79B"
      }
    },
    {
      "cell_type": "code",
      "source": [
        "'''\n",
        "Векторное поле уравнения x' = A^T softmax(beta * A * x) - x\n",
        "A = [[2,3],[-3,2],[2,5], [-2,-3],[3,5]]\n",
        "beta = 5\n",
        "'''\n",
        "\n",
        "### Место для Вашего решения\n"
      ],
      "metadata": {
        "id": "TlXZ0pEjs_lR"
      },
      "execution_count": null,
      "outputs": []
    },
    {
      "cell_type": "markdown",
      "source": [
        "Замечательно! Оказывается, что среди этих сгруппированных точек выделяется одна, которая «притягивает сильнее».\n"
      ],
      "metadata": {
        "id": "Q97ZQ0sJtE5_"
      }
    },
    {
      "cell_type": "markdown",
      "source": [
        "\n",
        "Возможно, Вам до сих пор не очень понятно, к чему все эти рассуждения и как они помогут нам с обработкой изображения. Давайте переложим рассмотренные выше идеи на датасет `MNIST`."
      ],
      "metadata": {
        "id": "9epXbk_5ttIJ"
      }
    },
    {
      "cell_type": "markdown",
      "source": [
        "#### Отношение к изображениям и цифрам"
      ],
      "metadata": {
        "id": "xc0Bo-spt108"
      }
    },
    {
      "cell_type": "markdown",
      "source": [
        "Вспомним, что картинка в компьютере представляется массивом размера `(height, width)`.\n",
        "\n",
        "Теперь представьте, что мы рассматриваем распрямленную$^*$ картинку, то есть каждый пиксель записан на новой строчке. Получившийся вектор имеет размер `(width*height,1)`.\n",
        "\n",
        "И этот вектор мы можем подставлять в наше уравнение (1). Решая это уравнение, получим какой-то вектор новой распрямленной картинки, который мы можем обратно привести к исходному размеру `(height, width)`.\n",
        "\n",
        "<sub>* Заметьте, что мы не теряем информацию о картинке, если помним изначальные размеры, так как в любой момент можем обратно собрать изображение по распрямленному.</sub>"
      ],
      "metadata": {
        "id": "wcMNSaUit8Ht"
      }
    },
    {
      "cell_type": "markdown",
      "source": [
        "Остается лишь вопрос в матрице $A$. Какую ее брать?\n",
        "\n",
        "И оказывается, что тут нам помогут наши «точки притяжения». Ведь если мы знаем на каком-то тренировочном наборе, как примерно выглядят цифры, то можем их положить в матрицу $A$. Таким образом, мы получим, что наши тренировочные картинки являются «точками притяжения» для бракованных. А значит любая бракованная, следуя по стрелочкам векторного поля$^*$, придет к одной из тренировочных картинок, тем самым восстановив цифру на изображении.\n",
        "\n",
        "То есть матрица $A$ будет выглядеть примерно\n",
        "$$\n",
        "A =\n",
        "\\begin{bmatrix}\n",
        "    \\text{тренировочная распрямленная картинка 1}\\\\\n",
        "    \\text{тренировочная распрямленная картинка 2}\\\\\n",
        "    \\vdots\\\\\n",
        "    \\text{тренировочная распрямленная картинка k}\\\\\n",
        "\\end{bmatrix}.\n",
        "$$\n",
        "\n",
        "<sub>* Стоит помнить, что теперь мы все манипуляции проворачиваем в пространстве размерности `width*height`. И там уже, конечно, под векторным полем понимается немного другое и изобразить это практически невозможно.</sub>"
      ],
      "metadata": {
        "id": "sgEo2QFm6vCp"
      }
    },
    {
      "cell_type": "markdown",
      "source": [
        "### Основная часть"
      ],
      "metadata": {
        "id": "VRrLKFEm-lwB"
      }
    },
    {
      "cell_type": "markdown",
      "source": [
        "#### Загрузка данных"
      ],
      "metadata": {
        "id": "AivDwheVMkWy"
      }
    },
    {
      "cell_type": "markdown",
      "source": [
        "<table>\n",
        "  <tr>\n",
        "    <td style=\"width:40%\"><img src=https://external-content.duckduckgo.com/iu/?u=https%3A%2F%2Ftse1.mm.bing.net%2Fth%3Fid%3DOIP.HVapjsP3IhY1D-JsrfGN9gHaEo%26pid%3DApi&f=1&ipt=98ac0d905405b055fade0f342067785a1f2a3e3c9dab7a80c787fcb5627cd771&ipo=images width=200></td>\n",
        "    <td style=\"width:50%\"><center><p>Выборка из датасета производится случайным образом!<br>\n",
        "    Если Вы хотите работать с одними и теми же данными,<br>то сохраните файл <code>mnist.npz</code> к себе на компьютер <br>и каждый раз добавляйте его в Colab,<br>пользуясь кодом ниже.<br> Тогда данные будут читаться из него.</center></p></td>\n",
        "  </tr>\n",
        "</table>"
      ],
      "metadata": {
        "id": "THwG0JZH-uDR"
      }
    },
    {
      "cell_type": "code",
      "source": [
        "# @title Загрузка файла в Colab (Запускайте только если хотите добавить файл)\n",
        "\n",
        "from google.colab import files\n",
        "file =files.upload()"
      ],
      "metadata": {
        "id": "LcuPbeB6KjxF",
        "colab": {
          "base_uri": "https://localhost:8080/",
          "height": 39
        },
        "outputId": "3f412bba-8071-43b6-c876-e5316a1d5f04"
      },
      "execution_count": null,
      "outputs": [
        {
          "output_type": "display_data",
          "data": {
            "text/plain": [
              "<IPython.core.display.HTML object>"
            ],
            "text/html": [
              "\n",
              "     <input type=\"file\" id=\"files-d6f6405b-8ff1-40c5-af5e-4af33f461514\" name=\"files[]\" multiple disabled\n",
              "        style=\"border:none\" />\n",
              "     <output id=\"result-d6f6405b-8ff1-40c5-af5e-4af33f461514\">\n",
              "      Upload widget is only available when the cell has been executed in the\n",
              "      current browser session. Please rerun this cell to enable.\n",
              "      </output>\n",
              "      <script>// Copyright 2017 Google LLC\n",
              "//\n",
              "// Licensed under the Apache License, Version 2.0 (the \"License\");\n",
              "// you may not use this file except in compliance with the License.\n",
              "// You may obtain a copy of the License at\n",
              "//\n",
              "//      http://www.apache.org/licenses/LICENSE-2.0\n",
              "//\n",
              "// Unless required by applicable law or agreed to in writing, software\n",
              "// distributed under the License is distributed on an \"AS IS\" BASIS,\n",
              "// WITHOUT WARRANTIES OR CONDITIONS OF ANY KIND, either express or implied.\n",
              "// See the License for the specific language governing permissions and\n",
              "// limitations under the License.\n",
              "\n",
              "/**\n",
              " * @fileoverview Helpers for google.colab Python module.\n",
              " */\n",
              "(function(scope) {\n",
              "function span(text, styleAttributes = {}) {\n",
              "  const element = document.createElement('span');\n",
              "  element.textContent = text;\n",
              "  for (const key of Object.keys(styleAttributes)) {\n",
              "    element.style[key] = styleAttributes[key];\n",
              "  }\n",
              "  return element;\n",
              "}\n",
              "\n",
              "// Max number of bytes which will be uploaded at a time.\n",
              "const MAX_PAYLOAD_SIZE = 100 * 1024;\n",
              "\n",
              "function _uploadFiles(inputId, outputId) {\n",
              "  const steps = uploadFilesStep(inputId, outputId);\n",
              "  const outputElement = document.getElementById(outputId);\n",
              "  // Cache steps on the outputElement to make it available for the next call\n",
              "  // to uploadFilesContinue from Python.\n",
              "  outputElement.steps = steps;\n",
              "\n",
              "  return _uploadFilesContinue(outputId);\n",
              "}\n",
              "\n",
              "// This is roughly an async generator (not supported in the browser yet),\n",
              "// where there are multiple asynchronous steps and the Python side is going\n",
              "// to poll for completion of each step.\n",
              "// This uses a Promise to block the python side on completion of each step,\n",
              "// then passes the result of the previous step as the input to the next step.\n",
              "function _uploadFilesContinue(outputId) {\n",
              "  const outputElement = document.getElementById(outputId);\n",
              "  const steps = outputElement.steps;\n",
              "\n",
              "  const next = steps.next(outputElement.lastPromiseValue);\n",
              "  return Promise.resolve(next.value.promise).then((value) => {\n",
              "    // Cache the last promise value to make it available to the next\n",
              "    // step of the generator.\n",
              "    outputElement.lastPromiseValue = value;\n",
              "    return next.value.response;\n",
              "  });\n",
              "}\n",
              "\n",
              "/**\n",
              " * Generator function which is called between each async step of the upload\n",
              " * process.\n",
              " * @param {string} inputId Element ID of the input file picker element.\n",
              " * @param {string} outputId Element ID of the output display.\n",
              " * @return {!Iterable<!Object>} Iterable of next steps.\n",
              " */\n",
              "function* uploadFilesStep(inputId, outputId) {\n",
              "  const inputElement = document.getElementById(inputId);\n",
              "  inputElement.disabled = false;\n",
              "\n",
              "  const outputElement = document.getElementById(outputId);\n",
              "  outputElement.innerHTML = '';\n",
              "\n",
              "  const pickedPromise = new Promise((resolve) => {\n",
              "    inputElement.addEventListener('change', (e) => {\n",
              "      resolve(e.target.files);\n",
              "    });\n",
              "  });\n",
              "\n",
              "  const cancel = document.createElement('button');\n",
              "  inputElement.parentElement.appendChild(cancel);\n",
              "  cancel.textContent = 'Cancel upload';\n",
              "  const cancelPromise = new Promise((resolve) => {\n",
              "    cancel.onclick = () => {\n",
              "      resolve(null);\n",
              "    };\n",
              "  });\n",
              "\n",
              "  // Wait for the user to pick the files.\n",
              "  const files = yield {\n",
              "    promise: Promise.race([pickedPromise, cancelPromise]),\n",
              "    response: {\n",
              "      action: 'starting',\n",
              "    }\n",
              "  };\n",
              "\n",
              "  cancel.remove();\n",
              "\n",
              "  // Disable the input element since further picks are not allowed.\n",
              "  inputElement.disabled = true;\n",
              "\n",
              "  if (!files) {\n",
              "    return {\n",
              "      response: {\n",
              "        action: 'complete',\n",
              "      }\n",
              "    };\n",
              "  }\n",
              "\n",
              "  for (const file of files) {\n",
              "    const li = document.createElement('li');\n",
              "    li.append(span(file.name, {fontWeight: 'bold'}));\n",
              "    li.append(span(\n",
              "        `(${file.type || 'n/a'}) - ${file.size} bytes, ` +\n",
              "        `last modified: ${\n",
              "            file.lastModifiedDate ? file.lastModifiedDate.toLocaleDateString() :\n",
              "                                    'n/a'} - `));\n",
              "    const percent = span('0% done');\n",
              "    li.appendChild(percent);\n",
              "\n",
              "    outputElement.appendChild(li);\n",
              "\n",
              "    const fileDataPromise = new Promise((resolve) => {\n",
              "      const reader = new FileReader();\n",
              "      reader.onload = (e) => {\n",
              "        resolve(e.target.result);\n",
              "      };\n",
              "      reader.readAsArrayBuffer(file);\n",
              "    });\n",
              "    // Wait for the data to be ready.\n",
              "    let fileData = yield {\n",
              "      promise: fileDataPromise,\n",
              "      response: {\n",
              "        action: 'continue',\n",
              "      }\n",
              "    };\n",
              "\n",
              "    // Use a chunked sending to avoid message size limits. See b/62115660.\n",
              "    let position = 0;\n",
              "    do {\n",
              "      const length = Math.min(fileData.byteLength - position, MAX_PAYLOAD_SIZE);\n",
              "      const chunk = new Uint8Array(fileData, position, length);\n",
              "      position += length;\n",
              "\n",
              "      const base64 = btoa(String.fromCharCode.apply(null, chunk));\n",
              "      yield {\n",
              "        response: {\n",
              "          action: 'append',\n",
              "          file: file.name,\n",
              "          data: base64,\n",
              "        },\n",
              "      };\n",
              "\n",
              "      let percentDone = fileData.byteLength === 0 ?\n",
              "          100 :\n",
              "          Math.round((position / fileData.byteLength) * 100);\n",
              "      percent.textContent = `${percentDone}% done`;\n",
              "\n",
              "    } while (position < fileData.byteLength);\n",
              "  }\n",
              "\n",
              "  // All done.\n",
              "  yield {\n",
              "    response: {\n",
              "      action: 'complete',\n",
              "    }\n",
              "  };\n",
              "}\n",
              "\n",
              "scope.google = scope.google || {};\n",
              "scope.google.colab = scope.google.colab || {};\n",
              "scope.google.colab._files = {\n",
              "  _uploadFiles,\n",
              "  _uploadFilesContinue,\n",
              "};\n",
              "})(self);\n",
              "</script> "
            ]
          },
          "metadata": {}
        }
      ]
    },
    {
      "cell_type": "code",
      "source": [
        "# @title Загрузка выборки из датасета (запустите ячейку, исходный код скрыт) { vertical-output: true, form-width: \"100%\", display-mode: \"form\" }\n",
        "\n",
        "import os\n",
        "import torchvision.datasets as datasets\n",
        "from random import sample\n",
        "\n",
        "def show_images(images):\n",
        "    cols = 5\n",
        "    rows = int(len(images)/cols) + 1\n",
        "    plt.figure(figsize=(10,10))\n",
        "    plt.tight_layout()\n",
        "    index = 1\n",
        "    for x in images:\n",
        "        image = x\n",
        "        plt.subplot(rows, cols, index)\n",
        "        plt.imshow(image, cmap=plt.cm.gray)\n",
        "        index += 1\n",
        "\n",
        "if not os.path.exists('/content/mnist.npz'):\n",
        "    mnist_trainset = datasets.MNIST(root='/content/MNIST', train=True, download=True)\n",
        "    train = [np.array(mnist_trainset[k][0]) for k in sample(range(len(mnist_trainset)), 5)]\n",
        "    test = [np.array(mnist_trainset[k][0]) for k in sample(range(len(mnist_trainset)), 3)]\n",
        "    np.savez('/content/mnist.npz', train=train, test=test)\n",
        "\n",
        "data = np.load(\"/content/mnist.npz\")\n",
        "training_img = data[\"train\"]\n",
        "training_img = np.asarray(training_img)\n",
        "corrupted_img = data[\"test\"]\n",
        "corrupted_img_true = data['test']\n",
        "for i, item in enumerate(corrupted_img):\n",
        "    corrupted_img[i][14:, :] = 0\n",
        "\n",
        "print(\"Training Images\")\n",
        "show_images(training_img)\n",
        "plt.show()\n",
        "\n",
        "print(\"Corrupted Images\")\n",
        "show_images(corrupted_img)\n",
        "plt.show()"
      ],
      "metadata": {
        "id": "1qcyzmZ9E5pw"
      },
      "execution_count": null,
      "outputs": []
    },
    {
      "cell_type": "markdown",
      "source": [
        "Теперь у нас есть два набора:\n",
        "- `training_img` — массив с изображениями, представленными в виде массивов $(28\\times 28)$,\n",
        "- `corrupted_img` — массив с бракованными изображениями, представленными в виде массивов $(28\\times 28)$."
      ],
      "metadata": {
        "id": "9blsa3IiMsO0"
      }
    },
    {
      "cell_type": "markdown",
      "source": [
        "#### Обработка данных"
      ],
      "metadata": {
        "id": "9BvMXMbOrPDF"
      }
    },
    {
      "cell_type": "markdown",
      "source": [
        "Как мы выяснили ранее, для работы с изображениями нам необходимо их распрямить, то есть привести к вектору размера $(784 \\times 1)$.\n",
        "\n",
        "Запишите в переменные `training_img_flatten` и `corrupted_img_flatten` массивы распрямленных изображений соответствующих наборов `training_img` и  `corrupted_img`. Выведите получившиеся размеры массивов, используя [`numpy.shape`](https://numpy.org/doc/stable/reference/generated/numpy.shape.html).\n",
        "\n",
        "<sub>_Указание:_ воспользуйтесь функцией [`numpy.reshape`](https://numpy.org/doc/stable/reference/generated/numpy.reshape.html)</sub>"
      ],
      "metadata": {
        "id": "AVvnoXZRlRmT"
      }
    },
    {
      "cell_type": "code",
      "source": [
        "'''\n",
        "Распрямите изображения и запишите итоговые массивы в переменные training_img_flatten, corrupted_img_flatten.\n",
        "'''\n",
        "\n",
        "### Место для Вашего решения ###\n"
      ],
      "metadata": {
        "id": "91cfB3YPmY3W"
      },
      "execution_count": null,
      "outputs": []
    },
    {
      "cell_type": "markdown",
      "source": [
        "#### Обучение сети"
      ],
      "metadata": {
        "id": "1I73LfjhrTSB"
      }
    },
    {
      "cell_type": "markdown",
      "source": [
        "Основываясь на наших предположениях из интуитивного понимания принципа работы, заполните матрицу $A$. В этом и заключается обучение нашей сети."
      ],
      "metadata": {
        "id": "QXmq_OlKmYga"
      }
    },
    {
      "cell_type": "code",
      "source": [
        "'''\n",
        "Задайте матрицу весов A\n",
        "'''\n",
        "\n",
        "### Место для Вашего решения ###\n"
      ],
      "metadata": {
        "id": "L6rKhVkrqp3C"
      },
      "execution_count": null,
      "outputs": []
    },
    {
      "cell_type": "markdown",
      "source": [
        "$\\beta$ зададим равной $10^{-5}$. Вы можете поизменять этот гиперпараметр и написать в выводе, что меняется, или почитать в открытых источниках."
      ],
      "metadata": {
        "id": "8QKDjDbosFaB"
      }
    },
    {
      "cell_type": "code",
      "source": [
        "beta = 1e-5"
      ],
      "metadata": {
        "id": "V85E1FjEsEdt"
      },
      "execution_count": null,
      "outputs": []
    },
    {
      "cell_type": "markdown",
      "source": [
        "#### Применение обученной сети = решение дифференциального уравнения"
      ],
      "metadata": {
        "id": "iFmjllLzr48s"
      }
    },
    {
      "cell_type": "markdown",
      "source": [
        "Получается, что применение нашей сети сводится к решению задачи Коши с уравнением (1) и начальным условием, равным бракованной картинке, которую мы хотим восстановить. Понятно, что решать ее в явном виде не имеет смысла (по-крайней мере, потому что это система из 784 уравнений с функцией $\\mathrm{softmax}$ внутри). Поэтому будем решать численно."
      ],
      "metadata": {
        "id": "mUDPNHTUteik"
      }
    },
    {
      "cell_type": "markdown",
      "source": [
        "Воспользуйтесь функцией `Euler_method` из первого задания для решения заданной задачи Коши для каждой бракованной картинки с подставленными матрицей $A$ и скаляром $\\beta$.\n",
        "\n",
        "Получившиеся решения запишите в переменные `solution_i`, где $i$ — порядковый номер бракованной картинки (начинается с нуля)."
      ],
      "metadata": {
        "id": "-E99Tm7tuFen"
      }
    },
    {
      "cell_type": "code",
      "source": [
        "'''\n",
        "Запишите решения задач Коши в переменные solution_i\n",
        "'''\n",
        "\n",
        "### Место для Вашего решения ###\n"
      ],
      "metadata": {
        "id": "fZXwKcAjr3-Z"
      },
      "execution_count": null,
      "outputs": []
    },
    {
      "cell_type": "markdown",
      "source": [
        "Выведите получившиеся восстановленные изображения бок о бок с исходными бракованными. Как Вы думаете, угадал ли компьютер с цифрой? Сделайте вывод почему."
      ],
      "metadata": {
        "id": "JCL-t_S9wf9Q"
      }
    },
    {
      "cell_type": "code",
      "source": [
        "'''\n",
        "Вывод изображений: бракованное | восстановленное\n",
        "'''\n",
        "### Место для Вашего решения ###\n"
      ],
      "metadata": {
        "id": "5s6kKSnDwLqW"
      },
      "execution_count": null,
      "outputs": []
    },
    {
      "cell_type": "markdown",
      "source": [
        "#### Вывод"
      ],
      "metadata": {
        "id": "uhl3IzXpigyv"
      }
    },
    {
      "cell_type": "markdown",
      "source": [
        "Сделайте выводы относительно того, насколько удачно сработала нейронная сеть. Порассуждайте, почему так произошло."
      ],
      "metadata": {
        "id": "GTbSCfJricnt"
      }
    },
    {
      "cell_type": "markdown",
      "source": [
        "---\n",
        "> ❗ **Место для Вашего вывода** ❗\n",
        ">\n",
        "> *Мне кажется, что ...*\n",
        "---"
      ],
      "metadata": {
        "id": "opI4_oe2xwwM"
      }
    },
    {
      "cell_type": "markdown",
      "source": [
        "## Бонус! <sub>но все еще обязательный</sub>"
      ],
      "metadata": {
        "id": "apHMgTApylpY"
      }
    },
    {
      "cell_type": "markdown",
      "source": [
        "> Я прекрасно знаю, как Вы все любите лабораторные работы с покемонами еще с первого курса.\n",
        ">\n",
        "> Поэтому предлагаю свою версию работы про покемонов."
      ],
      "metadata": {
        "id": "SUxbNvnBypYe"
      }
    },
    {
      "cell_type": "markdown",
      "source": [
        "### Описание задачи"
      ],
      "metadata": {
        "id": "Ay5B8BjYzCAo"
      }
    },
    {
      "cell_type": "markdown",
      "source": [
        "Мне кажется, во всем, что связано с покемонами, есть эпизоды, когда по тени необходимо угадать имена покемонов. Именно это и предлагается сделать Вам в бонусном задании.\n",
        "\n",
        "И, конечно, было бы интересно заставить это делать Вас самих, но лучше попросим об этом волшебную машину с нейронной сетью Хопфилда."
      ],
      "metadata": {
        "id": "SWkltyT5zNdP"
      }
    },
    {
      "cell_type": "markdown",
      "source": [
        "### Основная часть"
      ],
      "metadata": {
        "id": "RGrCnnFd1jUD"
      }
    },
    {
      "cell_type": "markdown",
      "source": [
        "#### Загрузка данных"
      ],
      "metadata": {
        "id": "JaJU7qHP1ZMA"
      }
    },
    {
      "cell_type": "markdown",
      "source": [
        "<table>\n",
        "  <tr>\n",
        "    <td style=\"width:40%\"><img src=https://external-content.duckduckgo.com/iu/?u=https%3A%2F%2Ftse1.mm.bing.net%2Fth%3Fid%3DOIP.HVapjsP3IhY1D-JsrfGN9gHaEo%26pid%3DApi&f=1&ipt=98ac0d905405b055fade0f342067785a1f2a3e3c9dab7a80c787fcb5627cd771&ipo=images width=200></td>\n",
        "    <td style=\"width:50%\"><center><p>Картинка тени покемона каждый раз выбирается случайным образом!<br>\n",
        "    Если Вы хотите написать вывод по конкретному покемону,<br>то сохраните картинки тени и результата к себе на компьютер <br>и вставьте картинки в вывод.</center></p></td>\n",
        "  </tr>\n",
        "</table>"
      ],
      "metadata": {
        "id": "-zjHqpm0gID9"
      }
    },
    {
      "cell_type": "code",
      "source": [
        "# @title Загрузка покемонов (запустите ячейку, исходный код скрыт) { vertical-output: true, form-width: \"100%\", display-mode: \"form\" }\n",
        "import matplotlib.image as mpimg\n",
        "from urllib.request import urlretrieve\n",
        "from random import choice, sample\n",
        "\n",
        "background = mpimg.imread(urlretrieve(\"https://d31xsmoz1lk3y3.cloudfront.net/big/1582671.jpg?v=1558141242\", \"bg.jpg\")[0])\n",
        "\n",
        "urls = [\n",
        "    f'https://assets.pokemon.com/assets/cms2/img/pokedex/full/0{i}.png' for i in sample(range(10, 100), 5)\n",
        "]\n",
        "\n",
        "training_img = []\n",
        "shadow_img = []\n",
        "for url in urls:\n",
        "    file_name, _ = urlretrieve(url, \"test.png\")\n",
        "    img = mpimg.imread(file_name)\n",
        "    xx = np.linspace(0, img.shape[0] - 1, 80).astype(int)\n",
        "    yy = np.linspace(0, img.shape[1] - 1, 80).astype(int)\n",
        "    resized_img = img[xx, :, :][:, yy, :]\n",
        "    query_img = np.ones(resized_img.shape)\n",
        "    query_img[:, :, 0] = (resized_img[..., :3].max(axis=2) < 0.01) * 0.0\n",
        "    query_img[:, :, 1] = (resized_img[..., :3].max(axis=2) < 0.01) * 0.0\n",
        "    query_img[:, :, 2] = (resized_img[..., :3].max(axis=2) < 0.01) * 0.0\n",
        "    query_img[:, :, 3] = resized_img[:, :, 3]\n",
        "    training_img.append(resized_img)\n",
        "    shadow_img.append(query_img)\n",
        "\n",
        "training_img = np.asarray(training_img)\n",
        "shadow_img = choice(shadow_img)\n",
        "fig = plt.figure(frameon=False)\n",
        "plt.imshow(shadow_img, origin='lower', extent=[200, 200+4*shadow_img.shape[0],50,50+4*shadow_img.shape[1]])\n",
        "plt.imshow(background,alpha=0.7)\n",
        "plt.axis('off')\n",
        "plt.axis(\"tight\")\n",
        "plt.axis(\"image\")\n",
        "print('\\033[1m' + 'Это что за покемон?' + '\\033[0m')"
      ],
      "metadata": {
        "id": "O4F-KB1W01pB"
      },
      "execution_count": null,
      "outputs": []
    },
    {
      "cell_type": "markdown",
      "source": [
        "Теперь в у нас есть:\n",
        "- `training_img` — массив с цветными изображениями, представленными в виде массивов,\n",
        "- `shadow_img` — тень какого-то покемона."
      ],
      "metadata": {
        "id": "zhmgQ6qg2FwI"
      }
    },
    {
      "cell_type": "markdown",
      "source": [
        "#### Обработка данных"
      ],
      "metadata": {
        "id": "pvhxxRMa1ub9"
      }
    },
    {
      "cell_type": "markdown",
      "source": [
        "Аналогично случаю с изображениями цифр распрямите изображения в массивы."
      ],
      "metadata": {
        "id": "T-fQ2FuN1WHN"
      }
    },
    {
      "cell_type": "code",
      "source": [
        "'''\n",
        "Распрямите изображения и запишите итоговые массивы в переменные training_img_flatten, shadow_img_flatten.\n",
        "'''\n",
        "\n",
        "### Место для Вашего решения ###\n"
      ],
      "metadata": {
        "id": "IYsEvwNT1UeX"
      },
      "execution_count": null,
      "outputs": []
    },
    {
      "cell_type": "markdown",
      "source": [
        "#### Обучение сети"
      ],
      "metadata": {
        "id": "wVt2mE0O3crq"
      }
    },
    {
      "cell_type": "markdown",
      "source": [
        "Обучите сеть, задав матрицу $A$."
      ],
      "metadata": {
        "id": "6wWxtGH83j8l"
      }
    },
    {
      "cell_type": "code",
      "source": [
        "'''\n",
        "Задайте матрицу весов A\n",
        "'''\n",
        "\n",
        "### Место для Вашего решения ###\n"
      ],
      "metadata": {
        "id": "4BsoKoHd3K4C"
      },
      "execution_count": null,
      "outputs": []
    },
    {
      "cell_type": "code",
      "source": [
        "beta = 1e-3"
      ],
      "metadata": {
        "id": "Nk29Zb693q22"
      },
      "execution_count": null,
      "outputs": []
    },
    {
      "cell_type": "markdown",
      "source": [
        "#### Применение обученной сети"
      ],
      "metadata": {
        "id": "4R4vEN8l3qi0"
      }
    },
    {
      "cell_type": "markdown",
      "source": [
        "Примените обученную сеть, чтобы определить покемона по его тени.\n",
        "\n",
        "На этот раз воспользуйтесь написанной в первом задании функцией `Runge_Kutta_method`."
      ],
      "metadata": {
        "id": "MOweNf1k3xwf"
      }
    },
    {
      "cell_type": "code",
      "source": [
        "'''\n",
        "Запишите решения задач Коши в переменные solution\n",
        "'''\n",
        "\n",
        "### Место для Вашего решения ###\n"
      ],
      "metadata": {
        "id": "5B7YyfWx36Eh"
      },
      "execution_count": null,
      "outputs": []
    },
    {
      "cell_type": "markdown",
      "source": [
        "Выведите результат бок о бок с тенью."
      ],
      "metadata": {
        "id": "HPnxEiB45bzM"
      }
    },
    {
      "cell_type": "code",
      "source": [
        "'''\n",
        "Вывод изображений: тень | покемон\n",
        "'''\n",
        "\n",
        "### Место для Вашего решения ###\n"
      ],
      "metadata": {
        "id": "xC6NkPNP4KRI"
      },
      "execution_count": null,
      "outputs": []
    },
    {
      "cell_type": "markdown",
      "source": [
        "#### Вывод"
      ],
      "metadata": {
        "id": "Tz0rF2Gpikrf"
      }
    },
    {
      "cell_type": "markdown",
      "source": [
        "Сделайте выводы относительно того, насколько удачно сработала нейронная сеть. Порассуждайте, почему так произошло."
      ],
      "metadata": {
        "id": "t1RiA5QHiM5A"
      }
    },
    {
      "cell_type": "markdown",
      "source": [
        "---\n",
        "> ❗ **Место для Вашего вывода** ❗\n",
        ">\n",
        "> *Мне кажется, что ...*\n",
        "---"
      ],
      "metadata": {
        "id": "vlSO5T0gh-In"
      }
    },
    {
      "cell_type": "markdown",
      "source": [
        "#### Самая обязательная часть"
      ],
      "metadata": {
        "id": "w3tllEk_iFgM"
      }
    },
    {
      "cell_type": "markdown",
      "source": [
        "Ну и, естественно, Вам необходимо узнать имя выпавшего покемона и его способности 😀\n",
        "\n",
        "~~Ведь в этом суть лабораторных по программированию, разве нет?!~~"
      ],
      "metadata": {
        "id": "T6temovd9pwR"
      }
    },
    {
      "cell_type": "markdown",
      "source": [
        "---\n",
        "> ❗ **Место для имени и способностей покемона** ❗\n",
        ">\n",
        "> *Мне кажется, что это ...*\n",
        "---"
      ],
      "metadata": {
        "id": "Qxtz8PMl93vi"
      }
    }
  ]
}